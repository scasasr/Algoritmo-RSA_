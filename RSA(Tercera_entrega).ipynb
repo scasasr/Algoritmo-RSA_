{
  "nbformat": 4,
  "nbformat_minor": 0,
  "metadata": {
    "colab": {
      "name": "RSA(Tercera entrega).ipynb",
      "provenance": [],
      "authorship_tag": "ABX9TyOwTS+LzhZotMFesnBjOpWq",
      "include_colab_link": true
    },
    "kernelspec": {
      "display_name": "Python 3",
      "name": "python3"
    }
  },
  "cells": [
    {
      "cell_type": "markdown",
      "metadata": {
        "id": "view-in-github",
        "colab_type": "text"
      },
      "source": [
        "<a href=\"https://colab.research.google.com/github/scasasr/Algoritmo-RSA_/blob/main/RSA(Tercera_entrega).ipynb\" target=\"_parent\"><img src=\"https://colab.research.google.com/assets/colab-badge.svg\" alt=\"Open In Colab\"/></a>"
      ]
    },
    {
      "cell_type": "markdown",
      "metadata": {
        "id": "eQYVmZbythGn"
      },
      "source": [
        "**IMPLEMENTACION ALGORITMO RSA**\r\n",
        "\r\n"
      ]
    },
    {
      "cell_type": "markdown",
      "metadata": {
        "id": "GMkU5JxwUuif"
      },
      "source": [
        "\n",
        "\n",
        "La transmision de informacion de forma secreta y segura, por medio de un canal inseguro, entre dos o mas participante ubicados fiscamente en lugares diferentes, ha sido un dilema durante toda la historia.Fue hasta noviembre de 1976 que se propone el algoritmo de difie y Hellman, el cual permitia compartir una clave secreta computacionalmente segura, esto haciendo uso de funciones matematicas unidireccionales, es decir en una direccion tienen una solucion facil pero su calculo en sentido inverso es muy complejo. Solo dos años despues de este en febreo de 1978 se propone el sistmema de cifrado RSA(Rivest, Shamir y Adleman), un sistema que en sus primeros años no tuvo buena acogida, pero fue el tiempo el encargado de convertirlo en un estandar. \n",
        "\n",
        "\n",
        "\n",
        "\n",
        "\n",
        "\n"
      ]
    },
    {
      "cell_type": "markdown",
      "metadata": {
        "id": "fGpcPA3De8Wq"
      },
      "source": [
        "El algortimo RSA (Rivest, Shamir y Adleman) es un algoritmo de cifrado \n",
        "asimetrico, que utiliza la factorizacion de numeros enteros. Este hace uso de dos claves, una publica y una privada, las cuales son las encargadas del cifrado y descifrado de informacion.\n",
        "Este algoritmo consta de tres pasos: **generación de claves, cifrado y descifrado.**\n"
      ]
    },
    {
      "cell_type": "markdown",
      "metadata": {
        "id": "5kYb4Oc0pH-H"
      },
      "source": [
        "GENERACION DE CLAVES\n",
        "\n",
        "1.  Se escogen dos numeros primos distintos p y q , deben escogerse de forma aleatoria y deben tener una longitud similar de bits.\n",
        "2.   Se calcula un n, que se define como el producto de p y q (n=p*q)\n",
        "3.   Se calcula la funcion phi(n) de euler.\n",
        "4.   Se escoge un numero e, tal que 1< e < phi(n), ademas debe asegurarse que e tiene inverso multiplicativo, para esto debe cumplirse que el mcd de e y phi(n) se aigual a 1 (mcd [e,phi(n)] =1)\n",
        "5.   Se calcula  d tal que se satisfaga la congruencia e*d=1 (mod phi(n))\n",
        "\n",
        "La **clave publica** es (n,e) donde n es el modulo y e es el exponente de cifrado.\n",
        "La **clave privada** es (n,d) donde n es el modulo y d es el exponente de descifrado.\n",
        "\n",
        "\n",
        "\n",
        "\n",
        "\n",
        "\n"
      ]
    },
    {
      "cell_type": "markdown",
      "metadata": {
        "id": "7PCBg-YKx5Du"
      },
      "source": [
        " **1.**\n",
        "\n",
        "\n",
        "```\n",
        "def genPrimo(inferior, superior): #Obtiene un numero primo entre dos numeros\n",
        "  primo = random.randint(inferior,superior)\n",
        "  while not c_eratos(primo):\n",
        "    primo=random.randint(inferior,superior)\n",
        "  return primo\n",
        "\n",
        "def c_eratos(primo):#Criba de Eratostenes, verifica si un numero es primo\n",
        "  primoRaiz= math.floor(math.sqrt(primo))\n",
        "  for i in range(2,primoRaiz+1):\n",
        "    if primo%i == 0:\n",
        "      return False\n",
        "  return True\n",
        "```\n",
        "\n",
        "\n"
      ]
    },
    {
      "cell_type": "markdown",
      "metadata": {
        "id": "RCjW6jwIyXgS"
      },
      "source": [
        "Para la generacion de los enteros se usa la funcion *genPrimo(inferior, superior)* la cual recibe dos numeros enteros, los cuales serviran de limites del intervalo que sera usado para la seleccion del numero primo, se hace uso de la funcion *randint(inferior, superior)* de la libreria *random*, la cual genera un numero aleatoriamente entre los limites introducidos.Para la verificacion de si el numero seleccionado es primo o no, se hace uso de la funcion *c_eratos(primo)* la cual utiliza el concepto de la **\"criba de Eratostenes\"**, el cual toma un listado de numeros, comenzando desde el 2 y va a hasta algun numero entero 'n', este algoritmo consta de dos pasos, el primero es tomar el primer numero sin tachar como primo y empezar a tachar o eliminar sus multiplos hasta 'n', a continuacion si el cuadrado del primer numero que no se ha tachado es menor a 'n' se realiza el paso anterior.Esto se realiza hasta que se encuentre un numero el cual su cuadrado sea mayor o igual a 'n', alli nos detendremos y seleccionaremos todos los numero no tachados como numeros primos.En la implementacion de la funcion *c_eratos(primo)* , se tiene en cuenta que el algoritmo va hasta encontrar un numero 'a' cuyo cuadrado sea mayor o igual a 'n', esto tambien puede verse como la raiz cuadrada de 'n', por eso se verifica que ningun numero por debajo de 'a' sea divisor de 'n', si esto se cumple el numero ingresado es primo, sino es compuesto."
      ]
    },
    {
      "cell_type": "markdown",
      "metadata": {
        "id": "ZCph6EQj3_ZS"
      },
      "source": [
        "**2.**\n",
        "\n",
        "\n",
        "```\n",
        "def RSA():#Algoritmo RSA, genera llave publica(p),llave privada(s) y el numero n (n)\n",
        "  p= genPrimo(1000,10000)\n",
        "  q= genPrimo(1000,10000)\n",
        "  n= p*q\n",
        "```\n",
        "\n"
      ]
    },
    {
      "cell_type": "markdown",
      "metadata": {
        "id": "vSZnUf1J5J2f"
      },
      "source": [
        "En la funcion *RSA()*, una vez obtenidos los dos numeros primos 'p' y 'q', se realiza la multiplicacion de ellos para obtener 'n'."
      ]
    },
    {
      "cell_type": "markdown",
      "metadata": {
        "id": "hYL3_2aa5hyI"
      },
      "source": [
        "**3.**\n",
        "\n",
        "\n",
        "```\n",
        "def RSA():#Algoritmo RSA, genera llave publica(p),llave privada(s) y el numero n (n)\n",
        "  p= genPrimo(1000,10000)\n",
        "  q= genPrimo(1000,10000)\n",
        "  n= p*q\n",
        "  phi= (p-1)*(q-1)\n",
        "  \n",
        "```\n",
        "\n"
      ]
    },
    {
      "cell_type": "markdown",
      "metadata": {
        "id": "Vs4A4A4G6MGA"
      },
      "source": [
        "En la funcion RSA(), una vez generado n, es necesario hacer uso de la funcion \"phi de euler\", en este caso para facilitar su calculo se hace uso de las propiedades\n",
        "1.   phi(p)=(p-1) si p es primo\n",
        "2.   Si m y n som primos entre si phi(nm)=(n-1)(m-1)</n>\n",
        "\n",
        "Es por esto que calculamos phi(n) como ((p-1)(q-1)), sabiendo que n es igual a p*q y 'p' y 'q' son primos.\n",
        "\n"
      ]
    },
    {
      "cell_type": "markdown",
      "metadata": {
        "id": "X1d2bqb68MK_"
      },
      "source": [
        "**4.**\n",
        "\n",
        "\n",
        "```\n",
        "def RSA():#Algoritmo RSA, genera llave publica(p),llave privada(s) y el numero n (n)\n",
        "  p= genPrimo(1000,10000)\n",
        "  q= genPrimo(1000,10000)\n",
        "  n= p*q\n",
        "  phi= (p-1)*(q-1)\n",
        "  e= primoRel(phi)\n",
        "\n",
        "def primoRel(phi):#Selecciona un numero entre uno y Phi(n)\n",
        "  x=0\n",
        "  mcd=0\n",
        "  while mcd != 1:\n",
        "    x=genPrimo(1,phi)\n",
        "    mcd=euclides(x,phi)\n",
        "  return x\n",
        "\n",
        "def euclides(a,b):#Algoritmo de Euclides\n",
        "\n",
        "  while b != 0:\n",
        "    a,b=b,a%b\n",
        "  return a\n",
        "```\n",
        "\n"
      ]
    },
    {
      "cell_type": "markdown",
      "metadata": {
        "id": "Yhjc9Ruf8aLi"
      },
      "source": [
        "A continuacion se obtendra el valor 'e' el cual tiene que cumplir la condicion 1< e < phi(n), ademas el mcd(e,phi(n))=1 (primos relativos), esto para garantizar la existencia de su inverso multiplicativo(Es el que realiza el descifrado).\n",
        "Para obtener 'e' usamos la funcion *primoRel(phi)*, la cual recibe el valor de phi(n), esta funcion hace uso de la funcion ya mencionada *genPrimo(1,phi)* la cual genera un primo entre 1 y phi(n), ademas la funcion *primoRel(phi)* iterara hasta encontrar un numero que cumpla con la condicion de primo relativo con phi(n), esdecir se itera hasta que la variable mcd=1 , esto lo calcula por medio de la funcion *euclides(a,b)*, esta usa el algoritmo de euclides para encontrar el mcd, aqui se toma el valor 'b' como los residuos, por lo que se iterara hasta que 'b' sea igual a 0, ademas si este no es el caso, el valor de 'a' toma el valor de 'b' y 'b' se convierte en 'a%b' es decir en un nuevo resto, esta funcion funciona muy analoga al algoritmo de ecuclides. "
      ]
    },
    {
      "cell_type": "markdown",
      "metadata": {
        "id": "gvPWmOHjCH4C"
      },
      "source": [
        "**5.**\n",
        "\n",
        "\n",
        "```\n",
        "def RSA():#Algoritmo RSA, genera llave publica(p),llave privada(s) y el numero n (n)\n",
        "  p= genPrimo(1000,10000)\n",
        "  q= genPrimo(1000,10000)\n",
        "  n= p*q\n",
        "  phi= (p-1)*(q-1)\n",
        "  e= primoRel(phi)\n",
        "  x,d,y =extEuclides(e,phi)\n",
        "  #while d < 0:\n",
        "    #x,d,y=extEuclides(e,phi)\n",
        "  p=e\n",
        "  s=d\n",
        "  return p,s,n\n",
        "\n",
        "def extEuclides(a,b):#Algoritmo extendido de Ecuclides\n",
        "  if b == 0:\n",
        "    return (a,1,0)\n",
        "  d1,x1,y1 = extEuclides(b, a%b)\n",
        "  d, x, y =d1, y1, x1 - ((a//b)*y1)\n",
        "\n",
        "  return d,x,y\n",
        "\n",
        "```\n",
        "\n"
      ]
    },
    {
      "cell_type": "markdown",
      "metadata": {
        "id": "a3mOrFOHC2Yn"
      },
      "source": [
        "Para obtener el valor de la llave privada es necesario encontrar el inverso multiplicativo de el valor e, este inverso se calcula sabiendo que debe cumplir la congruencia ed=1(mod phi), esto se hace por medio de uso de la identidad de Bezout y el algoritmo de Euclides,haciendo uso de la identidad de Bezout dicha congruencia se puede representar como ea + db= 1, por medio del algoritmo de Euclides se puede ir despejando los restos y cocientes,para se usados en la identidad ya mencionada, esto hasta obtenr los valores a y b que satisfagan la identidad.\n",
        "\n",
        "\"*En este caso la iteracion para obtener un valor d positivo (ya que se puede obtener un valor negativo) en la funcion RSA()  esta desactivada ya que debido a la implementacion del algoritmo extendido de euclides, este bucle con algunos numeros se convierte en un bucle infinito.*\"\n",
        "\n",
        "Este error fue solucionado ya que se puede notar que en la funcion RSA() este ciclo de obtencion de un inverso 'd'(llave privada) positivo va a ser infinito siempre que el valor d sea negativo, puesto que vuelve y llama a la funcion extEuclides(e,phi) con los mismo valores, por lo que si el resultado es negativo siempre se mantendra igual, esto debido a que esta funcion no busca objetos de una misma clase de equivalencia, sino que siempre va a llegar al mismo valor.\n",
        "Para su solucion, el ciclo se mantiene sino que en este caso va a cambiar el valor 'e'(llave publica) en el llamado de la funcion extEuclides(e,phi), esto nos garantiza que el valor de 'd' tambien cambie por lo que el ciclo no sera infinito.\n",
        "\n"
      ]
    },
    {
      "cell_type": "markdown",
      "metadata": {
        "id": "u_qkuZZrEAqr"
      },
      "source": [
        "Cambio realizado\r\n",
        "\r\n",
        "\r\n",
        "```\r\n",
        "def RSA():#Algoritmo RSA, genera llave publica(p),llave privada(s) y el numero n (n)\r\n",
        "  p= genPrimo(100000,1000000)\r\n",
        "  q= genPrimo(100000,1000000)\r\n",
        "  n= p*q\r\n",
        "  phi= (p-1)*(q-1)\r\n",
        "  e= primoRel(phi)\r\n",
        "  x,d,y =extEuclides(e,phi)\r\n",
        "  while d < 0:\r\n",
        "    e = primoRel(phi)\r\n",
        "    x,d,y=extEuclides(e,phi)\r\n",
        "\r\n",
        "  p=e\r\n",
        "  s=d\r\n",
        "  return p,s,n\r\n",
        "\r\n",
        "def primoRel(phi):#Selecciona un numero entre uno y Phi(n)\r\n",
        "  x=0\r\n",
        "  mcd=0\r\n",
        "  while mcd != 1:\r\n",
        "    x=genPrimo(1,phi)\r\n",
        "    mcd=euclides(x,phi)\r\n",
        "  return x\r\n",
        "```\r\n",
        "\r\n"
      ]
    },
    {
      "cell_type": "markdown",
      "metadata": {
        "id": "P-NVJR_iC9R1"
      },
      "source": [
        "CIFRADO</n>\n",
        "\n",
        "Una vez calculada la llave publica y el numero n, se procede a encriptar el mensaje, el cual se realiza al elevar el mensaje al valor de la llave y calcular modulo n</n>\n",
        "\n",
        "mensaje cifrado=(mensaje**public)%n\n",
        "\n",
        "\n",
        "```\n",
        "def encriptar(msg, public, n):\n",
        "  msgEncriptado = pow(msg,public,n)\n",
        "  return msgEncriptado\n",
        "```\n",
        "\n",
        "\n"
      ]
    },
    {
      "cell_type": "markdown",
      "metadata": {
        "id": "ub7UNGRwEE6i"
      },
      "source": [
        "La funcion *encriptar(msg, public, n)* hace uso de la funcion *pow(x,y,z)* de la libreria de math. Esta funcion puede usarse para realizar una potencia normal o en nuestro caso pasando un tercer valor, luego de realizar la potencia saca el modulo con respecto al tercer valor(z)."
      ]
    },
    {
      "cell_type": "markdown",
      "metadata": {
        "id": "_lu6W-OxLWwt"
      },
      "source": [
        "DESCIFRADO</n>\n",
        "\n",
        "Una vez calculada la llave privada y el numero n, se procede a realizar el mismo proceso que al encriptar, el unico cambio en este caso es cambiar la llave publica por la privada, el descifrado se realiza al elevar el mensaje cifeado al valor de la llave privada y calcular modulo n</n>\n",
        "\n",
        "mensaje descifrado=(mensaje cifrado**private)%n\n",
        "\n",
        "\n",
        "\n",
        "```\n",
        "def desencriptar(msg, private, n):\n",
        "  msgDesencriptado =pow(msg, private,n)\n",
        "  return msgDesencriptado\n",
        "```\n",
        "\n"
      ]
    },
    {
      "cell_type": "markdown",
      "metadata": {
        "id": "aXzQxoOeMvt0"
      },
      "source": [
        "La funcion *desencriptar(msg, private, n)* tambien hace uso de la funcion *pow(x,y,z)* de la libreria de math. Esta funcion puede usarse para realizar una potencia normal o en nuestro caso pasando un tercer valor, luego de realizar la potencia saca el modulo con respecto al tercer valor(z)."
      ]
    },
    {
      "cell_type": "markdown",
      "metadata": {
        "id": "Vkl_4BuFoHyH"
      },
      "source": [
        "**CIFRADO Y DESCIFRADO DE CADENAS**\r\n",
        "\r\n",
        "\r\n",
        "```\r\n",
        "def Cifrar_Descifrar_Cadena(public,private,n,texto):\r\n",
        "  cifrado=\"\"\r\n",
        "  descifrado=\"\"\r\n",
        "  for i in texto:\r\n",
        "    cifrado=cifrado+str(encriptar(int(ord(i)),public,n))+'$'\r\n",
        "  print('Mensaje encriptado:', cifrado)\r\n",
        "\r\n",
        "  separar=cifrado.split('$')\r\n",
        "  for i in separar:\r\n",
        "    if i !=\"\":\r\n",
        "      descifrado=descifrado+chr(desencriptar(int(i),private,n))\r\n",
        "  print('Mensaje desencriptado:',descifrado )\r\n",
        "\r\n",
        "```\r\n",
        "\r\n"
      ]
    },
    {
      "cell_type": "markdown",
      "metadata": {
        "id": "Aq5laSeuoQ06"
      },
      "source": [
        "Esta funcion es la encargada de realizar el proceso de cifrado de una cadena de texto, esta funcion comienza por pasar cada caracter a la numeracion del codigo ASCII, para luego dicho valor, procesarlo con las funciones ya mencionadas encriptar(msg, public, n) y desencriptar(msg, private, n), para esto esta funcion Cifrar_Descifrar_Cadena(public,private,n,texto) recibe como valores de entrada la llave publica, privada, n y el texto a procesar."
      ]
    },
    {
      "cell_type": "markdown",
      "metadata": {
        "id": "lyfqBFeBRKqe"
      },
      "source": [
        "CODIGO"
      ]
    },
    {
      "cell_type": "code",
      "metadata": {
        "colab": {
          "base_uri": "https://localhost:8080/"
        },
        "id": "Dr7Yqo2jeRR_",
        "outputId": "924ad820-7f1a-4a35-c863-be65b03beddb"
      },
      "source": [
        "import random\n",
        "import math\n",
        "#import gmpy\n",
        "\n",
        "\n",
        "def genPrimo(inferior, superior): #Obtiene un numero primo entre dos numeros\n",
        "  primo = random.randint(inferior,superior)\n",
        "  while not c_eratos(primo):\n",
        "    primo=random.randint(inferior,superior)\n",
        "  return primo\n",
        "\n",
        "def c_eratos(primo):#Criba de Eratostenes, verifica si un numero es primo\n",
        "  primoRaiz= math.floor(math.sqrt(primo))\n",
        "  for i in range(2,primoRaiz+1):\n",
        "    if primo%i == 0:\n",
        "      return False\n",
        "  return True\n",
        "\n",
        "def RSA():#Algoritmo RSA, genera llave publica(p),llave privada(s) y el numero n (n)\n",
        "  p= genPrimo(100000,1000000)\n",
        "  q= genPrimo(100000,1000000)\n",
        "  n= p*q\n",
        "  phi= (p-1)*(q-1)\n",
        "  e= primoRel(phi)\n",
        "  x,d,y =extEuclides(e,phi)\n",
        "  while d < 0:\n",
        "    e = primoRel(phi)\n",
        "    x,d,y=extEuclides(e,phi)\n",
        "\n",
        "  p=e\n",
        "  s=d\n",
        "  return p,s,n\n",
        "\n",
        "\n",
        "def primoRel(phi):#Selecciona un numero entre uno y Phi(n)\n",
        "  x=0\n",
        "  mcd=0\n",
        "  while mcd != 1:\n",
        "    x=genPrimo(1,phi)\n",
        "    mcd=euclides(x,phi)\n",
        "  return x\n",
        "\n",
        "def euclides(a,b):#Algoritmo de Euclides\n",
        "\n",
        "  while b != 0:\n",
        "    a,b=b,a%b\n",
        "  return a\n",
        "\n",
        "def extEuclides(a,b):#Algoritmo extendido de Ecuclides\n",
        "  if b == 0:\n",
        "    return (a,1,0)\n",
        "  d1,x1,y1 = extEuclides(b,a%b)\n",
        "  d, x, y =d1, y1, x1 - (a//b)*y1\n",
        "\n",
        "  return d,x,y\n",
        "\n",
        "def encriptar(msg, public, n):\n",
        "  msgEncriptado = pow(msg,public,n)\n",
        "  return msgEncriptado\n",
        "\n",
        "def desencriptar(msg, private, n):\n",
        "  msgDesencriptado =pow(msg, private,n)\n",
        "  return msgDesencriptado\n",
        "\n",
        "\n",
        "def Cifrar_Descifrar_Cadena(public,private,n,texto):\n",
        "  cifrado=\"\"\n",
        "  descifrado=\"\"\n",
        "  for i in texto:\n",
        "    cifrado=cifrado+str(encriptar(int(ord(i)),public,n))+'$'\n",
        "  print('Mensaje encriptado:', cifrado)\n",
        "\n",
        "  separar=cifrado.split('$')\n",
        "  for i in separar:\n",
        "    if i !=\"\":\n",
        "      descifrado=descifrado+chr(desencriptar(int(i),private,n))\n",
        "  print('Mensaje desencriptado:',descifrado )\n",
        "\n",
        "#----------------------------EJEMPLOS------------------------\n",
        "public,private,n=RSA()\n",
        "print('Public: '+str(public)+', private: '+str(private)+', n: '+str(n))\n",
        "#d=gmpy.divm(1,p,n)\n",
        "#print(d)\n",
        "print(\"EJEMPLO 1\")\n",
        "Cifrar_Descifrar_Cadena(public,private,n,\"Hola mundo\")\n",
        "print(\"\")\n",
        "print(\"EJEMPLO 2\")\n",
        "Cifrar_Descifrar_Cadena(public,private,n,\"La contraseña es PQR12569_p00\")\n",
        "print(\"\")\n",
        "print(\"EJEMPLO 3\")\n",
        "Cifrar_Descifrar_Cadena(public,private,n,\"cuenta:ejemplo@correoejemplo / contraseña:192837465Qw\")\n",
        "print(\"\")\n",
        "print(\"EJEMPLO 4\")\n",
        "Cifrar_Descifrar_Cadena(public,private,n,\"Los resultados de la prueba han sido aceptados\")\n",
        "print(\"\")\n",
        "print(\"EJEMPLO 5\")\n",
        "Cifrar_Descifrar_Cadena(public,private,n,\"La bicicleta es un medio de transporte que tiene muchas ventajas. La pueden utilizar tanto los niños como los mayores porque es una máquina ligera y fácil de manejar. Sirve para desplazarnos de un lugar a otro y al mismo tiempo, practicar deporte.\")\n",
        "\n",
        "\n",
        "\n",
        "\n"
      ],
      "execution_count": 12,
      "outputs": [
        {
          "output_type": "stream",
          "text": [
            "Public: 11745240343, private: 10891830559, n: 102930784717\n",
            "EJEMPLO 1\n",
            "Mensaje encriptado: 63426387139$45532826315$6957547022$14615611365$82375060201$20291785406$54449936259$58573950612$102459483657$45532826315$\n",
            "Mensaje desencriptado: Hola mundo\n",
            "\n",
            "EJEMPLO 2\n",
            "Mensaje encriptado: 74300638330$14615611365$82375060201$68720599040$45532826315$58573950612$41373025312$59194961059$14615611365$54340722076$27130415349$18225308688$14615611365$82375060201$27130415349$54340722076$82375060201$11562091346$39668716699$64673154105$46480809374$98421610981$98637213772$53351022387$24607155898$95846251079$75451419238$95120730925$95120730925$\n",
            "Mensaje desencriptado: La contraseña es PQR12569_p00\n",
            "\n",
            "EJEMPLO 3\n",
            "Mensaje encriptado: 68720599040$54449936259$27130415349$58573950612$41373025312$14615611365$69423058798$27130415349$86943903578$27130415349$20291785406$75451419238$6957547022$45532826315$23743303306$68720599040$45532826315$59194961059$59194961059$27130415349$45532826315$27130415349$86943903578$27130415349$20291785406$75451419238$6957547022$45532826315$82375060201$38858616909$82375060201$68720599040$45532826315$58573950612$41373025312$59194961059$14615611365$54340722076$27130415349$18225308688$14615611365$69423058798$46480809374$24607155898$98421610981$77132508505$25385526493$26474311203$98942906761$53351022387$98637213772$39668716699$58357294577$\n",
            "Mensaje desencriptado: cuenta:ejemplo@correoejemplo / contraseña:192837465Qw\n",
            "\n",
            "EJEMPLO 4\n",
            "Mensaje encriptado: 74300638330$45532826315$54340722076$82375060201$59194961059$27130415349$54340722076$54449936259$6957547022$41373025312$14615611365$102459483657$45532826315$54340722076$82375060201$102459483657$27130415349$82375060201$6957547022$14615611365$82375060201$75451419238$59194961059$54449936259$27130415349$22280085795$14615611365$82375060201$83565847204$14615611365$58573950612$82375060201$54340722076$61839310750$102459483657$45532826315$82375060201$14615611365$68720599040$27130415349$75451419238$41373025312$14615611365$102459483657$45532826315$54340722076$\n",
            "Mensaje desencriptado: Los resultados de la prueba han sido aceptados\n",
            "\n",
            "EJEMPLO 5\n",
            "Mensaje encriptado: 74300638330$14615611365$82375060201$22280085795$61839310750$68720599040$61839310750$68720599040$6957547022$27130415349$41373025312$14615611365$82375060201$27130415349$54340722076$82375060201$54449936259$58573950612$82375060201$20291785406$27130415349$102459483657$61839310750$45532826315$82375060201$102459483657$27130415349$82375060201$41373025312$59194961059$14615611365$58573950612$54340722076$75451419238$45532826315$59194961059$41373025312$27130415349$82375060201$95427417912$54449936259$27130415349$82375060201$41373025312$61839310750$27130415349$58573950612$27130415349$82375060201$20291785406$54449936259$68720599040$83565847204$14615611365$54340722076$82375060201$91991247934$27130415349$58573950612$41373025312$14615611365$86943903578$14615611365$54340722076$8182365775$82375060201$74300638330$14615611365$82375060201$75451419238$54449936259$27130415349$102459483657$27130415349$58573950612$82375060201$54449936259$41373025312$61839310750$6957547022$61839310750$1156629774$14615611365$59194961059$82375060201$41373025312$14615611365$58573950612$41373025312$45532826315$82375060201$6957547022$45532826315$54340722076$82375060201$58573950612$61839310750$18225308688$45532826315$54340722076$82375060201$68720599040$45532826315$20291785406$45532826315$82375060201$6957547022$45532826315$54340722076$82375060201$20291785406$14615611365$100903687594$45532826315$59194961059$27130415349$54340722076$82375060201$75451419238$45532826315$59194961059$95427417912$54449936259$27130415349$82375060201$27130415349$54340722076$82375060201$54449936259$58573950612$14615611365$82375060201$20291785406$67209804109$95427417912$54449936259$61839310750$58573950612$14615611365$82375060201$6957547022$61839310750$36047884663$27130415349$59194961059$14615611365$82375060201$100903687594$82375060201$37403389276$67209804109$68720599040$61839310750$6957547022$82375060201$102459483657$27130415349$82375060201$20291785406$14615611365$58573950612$27130415349$86943903578$14615611365$59194961059$8182365775$82375060201$12187856520$61839310750$59194961059$91991247934$27130415349$82375060201$75451419238$14615611365$59194961059$14615611365$82375060201$102459483657$27130415349$54340722076$75451419238$6957547022$14615611365$1156629774$14615611365$59194961059$58573950612$45532826315$54340722076$82375060201$102459483657$27130415349$82375060201$54449936259$58573950612$82375060201$6957547022$54449936259$36047884663$14615611365$59194961059$82375060201$14615611365$82375060201$45532826315$41373025312$59194961059$45532826315$82375060201$100903687594$82375060201$14615611365$6957547022$82375060201$20291785406$61839310750$54340722076$20291785406$45532826315$82375060201$41373025312$61839310750$27130415349$20291785406$75451419238$45532826315$6047698118$82375060201$75451419238$59194961059$14615611365$68720599040$41373025312$61839310750$68720599040$14615611365$59194961059$82375060201$102459483657$27130415349$75451419238$45532826315$59194961059$41373025312$27130415349$8182365775$\n",
            "Mensaje desencriptado: La bicicleta es un medio de transporte que tiene muchas ventajas. La pueden utilizar tanto los niños como los mayores porque es una máquina ligera y fácil de manejar. Sirve para desplazarnos de un lugar a otro y al mismo tiempo, practicar deporte.\n"
          ],
          "name": "stdout"
        }
      ]
    },
    {
      "cell_type": "markdown",
      "metadata": {
        "id": "-YMy66cpgDUo"
      },
      "source": [
        "RESULTADOS</n>\n",
        "\n",
        "En este enlace se encuentra un video del correcto funcionamiento del algoritmo RSA, debido a que la llave privada se genero como un valor positivo:\n",
        "https://drive.google.com/file/d/101RnLxTsqfFaqnQufGTVj8evQtFUoPv9/view?usp=sharing\n",
        "\n",
        "\n",
        "El video anterio era una serie de ejemplos por si el bloque anterior no corria por un error de creacion de clave privada, en este caso el bloque anterior se ejcutara correctamente, en este se puede observar los valores de las claves, tanto la publica como la privada y el valor n, aedmas 5 ejemplos que son cifrados y descifrados con las claves anteriormente mencionadas.\n",
        "Cada vez que se ejecute el bloque de codigo, este creara claves diferentes y  hara el cifrado y descifrado con las que se creen en ese instante.\n",
        "\n"
      ]
    },
    {
      "cell_type": "markdown",
      "metadata": {
        "id": "RMs_stSjgKyO"
      },
      "source": [
        " CONCLUSIONES </n>\n",
        "\n",
        "Se puede concluir que el algoritmo RSA es muy eficiente en el cifrado y descifrado de informacion, lo cual permite mantener la informacion a salvo de itercepciones u otros entes externos. Esto se puede inferir de la implementacion realizada anteriormente, donde con un manejo de numero de tamaños comprendidas entre 100000 y 1000000, es decir un promedio de 9 o 10 digitos, se puede ver el resultado un cifrado bastante completo, lo cual nos lleva a inferir que con tamaños como con los que trabaja en la vida real con numeros de un tamaño promedio de 512 bits (aproximadamente de 155 digitos), lo cual nos lleva a pensar en el tamaño de los numeros de cifrado en el procedimiento.\n"
      ]
    },
    {
      "cell_type": "markdown",
      "metadata": {
        "id": "16R9NKT-gQ8B"
      },
      "source": [
        "REFERENCIAS</n>\n",
        "\n",
        "-https://es.wikipedia.org/wiki/RSA</n>\n",
        "\n",
        "-https://www.youtube.com/watch?v=CMe0COxZxb0</n>\n",
        "\n",
        "-https://www.youtube.com/watch?v=kq0604NJ-To</n>\n",
        "\n",
        "-https://es.wikipedia.org/wiki/Criba_de_Erat%C3%B3stenes</n>\n",
        "\n",
        "-https://en.wikipedia.org/wiki/Euclidean_algorithm</n>\n",
        "\n",
        "-https://en.wikipedia.org/wiki/Extended_Euclidean_algorithm</n>\n",
        "\n",
        "\n"
      ]
    }
  ]
}